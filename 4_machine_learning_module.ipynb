{
 "cells": [
  {
   "cell_type": "markdown",
   "metadata": {},
   "source": [
    "# Machine Learning module"
   ]
  },
  {
   "cell_type": "markdown",
   "metadata": {},
   "source": [
    "Imports"
   ]
  },
  {
   "cell_type": "code",
   "execution_count": 5,
   "metadata": {
    "ExecuteTime": {
     "end_time": "2024-01-22T22:18:04.047073100Z",
     "start_time": "2024-01-22T22:18:04.033685100Z"
    }
   },
   "outputs": [],
   "source": [
    "import pandas as pd\n",
    "from sklearn.linear_model import LinearRegression\n",
    "from tqdm import tqdm\n",
    "\n",
    "from data_access.insert.transit import update_transit_windows\n",
    "from data_access.read.flux import get_m_a_trend_flux_for_star_in_sector\n",
    "from data_access.read.transit import get_transits_for_sector"
   ]
  },
  {
   "cell_type": "markdown",
   "metadata": {},
   "source": [
    "### Variables Selection"
   ]
  },
  {
   "cell_type": "code",
   "execution_count": 6,
   "metadata": {
    "ExecuteTime": {
     "end_time": "2024-01-22T22:18:05.272875Z",
     "start_time": "2024-01-22T22:18:05.200319600Z"
    }
   },
   "outputs": [],
   "source": [
    "sector = 5\n",
    "time_window = 0.3\n",
    "step_size = 0.005\n",
    "threshold = 0.00001"
   ]
  },
  {
   "cell_type": "markdown",
   "metadata": {},
   "source": [
    "### Process"
   ]
  },
  {
   "cell_type": "code",
   "execution_count": 9,
   "metadata": {
    "ExecuteTime": {
     "end_time": "2024-01-22T22:34:27.280777900Z",
     "start_time": "2024-01-22T22:34:27.275443300Z"
    }
   },
   "outputs": [],
   "source": [
    "# Function to calculate the slope of linear regression in a window\n",
    "def slope_in_window(data: pd.DataFrame, time_point, window=time_window, direction='left'):\n",
    "    if direction == 'left':\n",
    "        start_time = time_point - window\n",
    "        end_time = time_point\n",
    "    else:  # right direction\n",
    "        start_time = time_point\n",
    "        end_time = time_point + window\n",
    "\n",
    "    # Select data in the window\n",
    "    window_data = data[data.time.between(start_time, end_time)]\n",
    "    if window_data.empty:\n",
    "        return 0\n",
    "\n",
    "    # Fit linear regression model\n",
    "    X = window_data.time.values.reshape(-1, 1)\n",
    "    y = window_data.m_a_trend_flux.values\n",
    "\n",
    "    model = LinearRegression()\n",
    "    model.fit(X, y)\n",
    "\n",
    "    return model.coef_[0]"
   ]
  },
  {
   "cell_type": "code",
   "execution_count": 10,
   "metadata": {
    "ExecuteTime": {
     "end_time": "2024-01-22T22:35:27.378001Z",
     "start_time": "2024-01-22T22:34:56.256878Z"
    }
   },
   "outputs": [
    {
     "name": "stderr",
     "output_type": "stream",
     "text": [
      "145it [01:25,  1.69it/s]\n"
     ]
    }
   ],
   "source": [
    "transits = get_transits_for_sector(sector)\n",
    "for index, row in tqdm(transits.iterrows()):\n",
    "    df = get_m_a_trend_flux_for_star_in_sector(sector, row.star_tic)\n",
    "    minimum_flux_id = row.minimum_flux_id\n",
    "    flux_at_minimum = df.at[minimum_flux_id, 'm_a_trend_flux']\n",
    "    minimum_time = df[df.index==minimum_flux_id].time.values[0]\n",
    "\n",
    "    # Initialize variables to store ingress and egress times\n",
    "    ingress_time = None\n",
    "    egress_time = None\n",
    "    ingress_idx = None\n",
    "    egress_idx = None\n",
    "\n",
    "    # Scan for ingress and egress points\n",
    "    current_time = minimum_time\n",
    "    while current_time >= df.time.min() + time_window:\n",
    "        current_time -= step_size\n",
    "        if abs(slope_in_window(df, current_time, time_window, 'left')) < threshold:\n",
    "            ingress_time = current_time - time_window/2\n",
    "            ingress_idx = (df.time - ingress_time).abs().idxmin()\n",
    "            break\n",
    "\n",
    "    current_time = minimum_time\n",
    "    while current_time <= df.time.max() - time_window:\n",
    "        current_time += step_size\n",
    "        if abs(slope_in_window(df, current_time, time_window, 'right')) < threshold:\n",
    "            egress_time = current_time + time_window/2\n",
    "            egress_idx = (df.time - egress_time).abs().idxmin()\n",
    "            break\n",
    "\n",
    "    if ingress_idx and egress_idx:\n",
    "        new_transit_data = pd.Series({\n",
    "            'minimum_flux_id': minimum_flux_id,\n",
    "            'transit_start_flux_id': ingress_idx,\n",
    "            'transit_end_flux_id': egress_idx,\n",
    "            'width_of_biggest_neg_trend_to_left': minimum_time-ingress_time,\n",
    "            'width_of_biggest_pos_trend_to_right': egress_time-minimum_time,\n",
    "            'transit_depth_left': df.at[ingress_idx, 'm_a_trend_flux'] - flux_at_minimum,\n",
    "            'transit_depth_right': df.at[egress_idx, 'm_a_trend_flux'] - flux_at_minimum,\n",
    "        })\n",
    "        update_transit_windows(new_transit_data)"
   ]
  }
 ],
 "metadata": {
  "kernelspec": {
   "display_name": "Python 3 (ipykernel)",
   "language": "python",
   "name": "python3"
  },
  "language_info": {
   "codemirror_mode": {
    "name": "ipython",
    "version": 3
   },
   "file_extension": ".py",
   "mimetype": "text/x-python",
   "name": "python",
   "nbconvert_exporter": "python",
   "pygments_lexer": "ipython3",
   "version": "3.10.9"
  }
 },
 "nbformat": 4,
 "nbformat_minor": 1
}

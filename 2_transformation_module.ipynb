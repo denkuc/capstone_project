{
 "cells": [
  {
   "cell_type": "markdown",
   "metadata": {},
   "source": [
    "# Data Transformation module"
   ]
  },
  {
   "cell_type": "markdown",
   "metadata": {},
   "source": [
    "Imports"
   ]
  },
  {
   "cell_type": "code",
   "execution_count": 4,
   "metadata": {
    "scrolled": true
   },
   "outputs": [],
   "source": [
    "import numpy as np\n",
    "from tqdm import tqdm\n",
    "\n",
    "from data_access.insert.flux import insert_flux_trend_and_ma\n",
    "from data_access.insert.flux_stat import insert_flux_stats\n",
    "from data_access.read.flux import get_raw_flux_for_star_in_sector, get_all_stars_for_sector\n",
    "from tools.flatten import add_wotan_trend\n",
    "from tools.moving_average import add_moving_averages"
   ]
  },
  {
   "cell_type": "markdown",
   "metadata": {},
   "source": [
    "### Variables Selection"
   ]
  },
  {
   "cell_type": "code",
   "execution_count": 5,
   "metadata": {},
   "outputs": [],
   "source": [
    "sector = 5\n",
    "wotan_window_length = 0.3\n",
    "moving_average_window = 90"
   ]
  },
  {
   "cell_type": "markdown",
   "metadata": {},
   "source": [
    "### Process"
   ]
  },
  {
   "cell_type": "code",
   "execution_count": 6,
   "metadata": {},
   "outputs": [
    {
     "name": "stderr",
     "output_type": "stream",
     "text": [
      "100%|██████████████████████████████████████████████████████████████████████████████████| 50/50 [01:30<00:00,  1.80s/it]\n"
     ]
    }
   ],
   "source": [
    "tics = get_all_stars_for_sector(sector)\n",
    "for tic in tqdm(tics):\n",
    "    flux = get_raw_flux_for_star_in_sector(sector, tic)\n",
    "    add_wotan_trend(flux)\n",
    "    add_moving_averages(flux, moving_average_window)\n",
    "    insert_flux_trend_and_ma(flux)\n",
    "\n",
    "    m_a_trend_flux = flux['m_a_trend_flux']\n",
    "    mean_val = m_a_trend_flux.mean()\n",
    "    max_val = m_a_trend_flux.max()\n",
    "    min_val = m_a_trend_flux.min()\n",
    "    std_val = m_a_trend_flux.std()\n",
    "\n",
    "    # Calculate range\n",
    "    range_val = max_val - min_val\n",
    "\n",
    "    # Calculate amplitude\n",
    "    sorted_fluxes = m_a_trend_flux.sort_values()\n",
    "    top_5_percent = sorted_fluxes[int(0.95 * len(sorted_fluxes)):]\n",
    "    bottom_5_percent = sorted_fluxes[:int(0.05 * len(sorted_fluxes))]\n",
    "    amplitude_val = (np.median(top_5_percent) - np.median(bottom_5_percent)) / 2\n",
    "\n",
    "    # Calculate beyond1std\n",
    "    beyond1std_val = np.mean(np.abs(m_a_trend_flux - mean_val) > std_val)\n",
    "\n",
    "    insert_flux_stats(sector, tic, mean_val, max_val, min_val, std_val, range_val, amplitude_val, beyond1std_val)"
   ]
  },
  {
   "cell_type": "code",
   "execution_count": null,
   "metadata": {},
   "outputs": [],
   "source": []
  }
 ],
 "metadata": {
  "kernelspec": {
   "display_name": "Python (myvenv)",
   "language": "python",
   "name": "myvenv"
  },
  "language_info": {
   "codemirror_mode": {
    "name": "ipython",
    "version": 3
   },
   "file_extension": ".py",
   "mimetype": "text/x-python",
   "name": "python",
   "nbconvert_exporter": "python",
   "pygments_lexer": "ipython3",
   "version": "3.11.7"
  }
 },
 "nbformat": 4,
 "nbformat_minor": 1
}

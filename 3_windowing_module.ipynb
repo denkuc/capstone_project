{
 "cells": [
  {
   "cell_type": "markdown",
   "metadata": {},
   "source": [
    "# Windowing module"
   ]
  },
  {
   "cell_type": "markdown",
   "metadata": {},
   "source": [
    "Imports"
   ]
  },
  {
   "cell_type": "code",
   "execution_count": 1,
   "metadata": {
    "ExecuteTime": {
     "end_time": "2024-01-16T11:51:03.460835Z",
     "start_time": "2024-01-16T11:51:02.946803100Z"
    }
   },
   "outputs": [],
   "source": [
    "import numpy as np\n",
    "from tqdm import tqdm\n",
    "\n",
    "from data_access.insert.transit import insert_transit_windows\n",
    "from data_access.read.flux import get_m_a_trend_flux_for_star_in_sector, get_usual_stars_for_sector\n",
    "from tools.percentage import calculate_percentage\n",
    "\n",
    "\n",
    "class WindowIsTooWideException(Exception):\n",
    "    ..."
   ]
  },
  {
   "cell_type": "markdown",
   "metadata": {},
   "source": [
    "### Variables Selection"
   ]
  },
  {
   "cell_type": "code",
   "execution_count": 5,
   "metadata": {
    "ExecuteTime": {
     "end_time": "2024-01-16T11:51:03.476962Z",
     "start_time": "2024-01-16T11:51:03.463841800Z"
    }
   },
   "outputs": [],
   "source": [
    "sector = 2\n",
    "minimum_half_transit_width_half = 0.3\n",
    "maximum_half_transit_width_half = 2.0\n",
    "start_half_transit_width_half = 3.1\n",
    "half_transit_step = -0.05\n",
    "trend_percentage = 0.95"
   ]
  },
  {
   "cell_type": "markdown",
   "metadata": {},
   "source": [
    "### Process"
   ]
  },
  {
   "cell_type": "code",
   "execution_count": 6,
   "metadata": {
    "ExecuteTime": {
     "end_time": "2024-01-16T11:59:24.411115Z",
     "start_time": "2024-01-16T11:51:03.485961600Z"
    }
   },
   "outputs": [
    {
     "name": "stderr",
     "output_type": "stream",
     "text": [
      "100%|██████████████████████████████████████████████████████████████████████████████████| 26/26 [00:44<00:00,  1.70s/it]\n"
     ]
    }
   ],
   "source": [
    "tics = get_usual_stars_for_sector(sector)\n",
    "for tic in tqdm(tics):\n",
    "    df = get_m_a_trend_flux_for_star_in_sector(sector, tic)\n",
    "    df.reset_index(inplace=True)\n",
    "    df.rename(columns={'id': 'db_id'}, inplace=True)\n",
    "\n",
    "    df['m_a_trend_flux_diff'] = df['m_a_trend_flux'].diff()\n",
    "    df['m_a_trend_flux_diff_positive'] = df['m_a_trend_flux_diff'] > 0\n",
    "    df['m_a_trend_flux_change_to_true'] = ((df['m_a_trend_flux_diff_positive'] == True) &\n",
    "                                           (df['m_a_trend_flux_diff_positive'].shift(1) == False))\n",
    "\n",
    "    df.loc[:,f'width_of_biggest_neg_trend_to_left'] = np.nan\n",
    "    df.loc[:,f'width_of_biggest_pos_trend_to_right'] = np.nan\n",
    "\n",
    "    df_filtered_with_changing_points = df[df['m_a_trend_flux_change_to_true'] == True]\n",
    "    for i in df_filtered_with_changing_points.index:\n",
    "        db_id = df.at[i, 'db_id']\n",
    "        time = df.at[i, 'time']\n",
    "        try:\n",
    "            # Start from the wider windows and gradually narrow its width\n",
    "            for width_before in np.arange(start_half_transit_width_half, minimum_half_transit_width_half, half_transit_step):\n",
    "                # Find the starting index of the window\n",
    "                before_start_idx = df['time'].searchsorted(df['time'].iloc[i] - width_before, side='right')\n",
    "                before_start_idx = max(before_start_idx, 0)\n",
    "\n",
    "                # Calculate the percentage of negative values before the point\n",
    "                segment = df['m_a_trend_flux_diff_positive'].iloc[before_start_idx:i]\n",
    "                negatives_before_percentage = calculate_percentage(segment, width_before, positive=False)\n",
    "                if negatives_before_percentage > trend_percentage:\n",
    "                    if width_before > maximum_half_transit_width_half:\n",
    "                        # we don't need wider trends than maximum_half_transit_width_half\n",
    "                        raise WindowIsTooWideException()\n",
    "\n",
    "                    # Assign the value of the biggest negative trend found\n",
    "                    df.at[i, 'width_of_biggest_neg_trend_to_left'] = width_before\n",
    "                    df.at[i, 'transit_start_flux_id'] = df.at[before_start_idx, 'db_id']\n",
    "                    df.at[i, 'transit_depth_left'] = df.at[before_start_idx, 'm_a_trend_flux'] - df.at[i, 'm_a_trend_flux']\n",
    "\n",
    "                    # End the loop if the appropriate window is found\n",
    "                    break\n",
    "\n",
    "        except WindowIsTooWideException:\n",
    "            continue\n",
    "\n",
    "    df_filtered_with_negative_trends = df[df['width_of_biggest_neg_trend_to_left'].notna()]\n",
    "    for i, row in df_filtered_with_negative_trends.iterrows():\n",
    "        width_of_biggest_neg_trend_to_left = row['width_of_biggest_neg_trend_to_left']\n",
    "\n",
    "        try:\n",
    "            # right wing of a transit could be wider than the left one\n",
    "            for width_after in np.arange(5 * width_of_biggest_neg_trend_to_left, width_of_biggest_neg_trend_to_left, half_transit_step):\n",
    "                # Find the ending index of the window\n",
    "                time_indices = df['time'].searchsorted(df['time'] + width_after, side='right') - 1\n",
    "                after_end_idx = time_indices[i]\n",
    "                after_end_idx = min(after_end_idx, len(df) - 1)\n",
    "\n",
    "                # Calculate the percentage of positive values after the point\n",
    "                segment = df['m_a_trend_flux_diff_positive'].iloc[i+1:after_end_idx+1]\n",
    "                positives_after_percentage = calculate_percentage(segment, width_after, positive=True)\n",
    "                if positives_after_percentage > trend_percentage:\n",
    "                    if width_after > 4 * width_of_biggest_neg_trend_to_left:\n",
    "                        # we don't need wider trends than 4*width_of_biggest_neg_trend_to_left\n",
    "                        raise WindowIsTooWideException()\n",
    "                    # Assign the value of the biggest positive trend found\n",
    "                    df.at[i, 'width_of_biggest_pos_trend_to_right'] = width_after\n",
    "                    df.at[i, 'transit_end_flux_id'] = df.at[after_end_idx, 'db_id']\n",
    "                    df.at[i, 'transit_depth_right'] = df.at[after_end_idx, 'm_a_trend_flux'] - df.at[i, 'm_a_trend_flux']\n",
    "                    # End the loop if the appropriate window is found\n",
    "                    break\n",
    "\n",
    "        except WindowIsTooWideException:\n",
    "            continue\n",
    "\n",
    "    df_filtered_with_both_trends = df[df['width_of_biggest_pos_trend_to_right'].notna()]\n",
    "\n",
    "    insert_transit_windows(df_filtered_with_both_trends)"
   ]
  },
  {
   "cell_type": "code",
   "execution_count": null,
   "metadata": {},
   "outputs": [],
   "source": []
  }
 ],
 "metadata": {
  "kernelspec": {
   "display_name": "Python (myvenv)",
   "language": "python",
   "name": "myvenv"
  },
  "language_info": {
   "codemirror_mode": {
    "name": "ipython",
    "version": 3
   },
   "file_extension": ".py",
   "mimetype": "text/x-python",
   "name": "python",
   "nbconvert_exporter": "python",
   "pygments_lexer": "ipython3",
   "version": "3.11.7"
  }
 },
 "nbformat": 4,
 "nbformat_minor": 1
}

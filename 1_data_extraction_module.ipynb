{
 "cells": [
  {
   "cell_type": "markdown",
   "metadata": {},
   "source": [
    "# Data Extraction module"
   ]
  },
  {
   "cell_type": "markdown",
   "metadata": {},
   "source": [
    "Imports"
   ]
  },
  {
   "cell_type": "code",
   "execution_count": 1,
   "metadata": {
    "ExecuteTime": {
     "end_time": "2024-01-21T14:07:38.277757700Z",
     "start_time": "2024-01-21T14:07:34.522754Z"
    }
   },
   "outputs": [],
   "source": [
    "import os\n",
    "from tqdm import tqdm\n",
    "\n",
    "from data_access.insert.star import insert_star_type\n",
    "from data_access.read.star import star_exists\n",
    "from tools.normalize import create_normalized_light_curve_from_fits, get_sector_data_folder, get_tic_index_from_full_name\n",
    "from data_access.insert.sector import insert_file_name_pattern_to_sector\n",
    "from data_access.insert.flux import insert_flux\n",
    "from data_access.read.flux import flux_exists\n",
    "from tools.star_type import get_star_type"
   ]
  },
  {
   "cell_type": "markdown",
   "metadata": {},
   "source": [
    "### Variables Selection"
   ]
  },
  {
   "cell_type": "code",
   "execution_count": 2,
   "metadata": {
    "ExecuteTime": {
     "end_time": "2024-01-15T21:47:43.259451Z",
     "start_time": "2024-01-15T21:47:43.247418100Z"
    }
   },
   "outputs": [],
   "source": [
    "sector = 5"
   ]
  },
  {
   "cell_type": "markdown",
   "metadata": {},
   "source": [
    "### Process fits files and save fluxes to DB"
   ]
  },
  {
   "cell_type": "code",
   "execution_count": 3,
   "metadata": {
    "ExecuteTime": {
     "end_time": "2024-01-15T21:47:43.279985800Z",
     "start_time": "2024-01-15T21:47:43.261450100Z"
    }
   },
   "outputs": [],
   "source": [
    "folder = get_sector_data_folder(sector)\n",
    "all_files = os.listdir(folder)\n",
    "\n",
    "# save file name pattern for sector to DB\n",
    "first_file = all_files[0]\n",
    "file_parts = first_file.split('-')\n",
    "file_parts[2] = '{}'\n",
    "file_name_pattern = '-'.join(file_parts)\n",
    "insert_file_name_pattern_to_sector(sector, file_name_pattern)\n",
    "\n",
    "star_tics = [str(get_tic_index_from_full_name(file)) for file in all_files]"
   ]
  },
  {
   "cell_type": "markdown",
   "metadata": {},
   "source": [
    "### Insert data about stars"
   ]
  },
  {
   "cell_type": "code",
   "execution_count": 4,
   "metadata": {
    "ExecuteTime": {
     "end_time": "2024-01-15T21:52:18.904440Z",
     "start_time": "2024-01-15T21:47:43.276270500Z"
    }
   },
   "outputs": [
    {
     "name": "stderr",
     "output_type": "stream",
     "text": [
      "  0%|                                                                                           | 0/50 [00:00<?, ?it/s]C:\\Users\\denys.karakuts\\PycharmProjects\\capstone_project\\tools\\star_type.py:28: GuessedAtParserWarning: No parser was explicitly specified, so I'm using the best available HTML parser for this system (\"lxml\"). This usually isn't a problem, but if you run this code on another system, or in a different virtual environment, it may use a different parser and behave differently.\n",
      "\n",
      "The code that caused this warning is on line 28 of the file C:\\Users\\denys.karakuts\\PycharmProjects\\capstone_project\\tools\\star_type.py. To get rid of this warning, pass the additional argument 'features=\"lxml\"' to the BeautifulSoup constructor.\n",
      "\n",
      "  soup = BeautifulSoup(html_content)\n",
      "C:\\Users\\denys.karakuts\\AppData\\Local\\anaconda3\\lib\\site-packages\\bs4\\builder\\__init__.py:545: XMLParsedAsHTMLWarning: It looks like you're parsing an XML document using an HTML parser. If this really is an HTML document (maybe it's XHTML?), you can ignore or filter this warning. If it's XML, you should know that using an XML parser will be more reliable. To parse this document as XML, make sure you have the lxml package installed, and pass the keyword argument `features=\"xml\"` into the BeautifulSoup constructor.\n",
      "  warnings.warn(\n",
      "100%|██████████████████████████████████████████████████████████████████████████████████| 50/50 [00:24<00:00,  2.04it/s]\n"
     ]
    }
   ],
   "source": [
    "for star_tic in tqdm(star_tics):\n",
    "    if star_exists(star_tic):\n",
    "        continue\n",
    "\n",
    "    star_type = get_star_type(star_tic)\n",
    "    insert_star_type(star_tic, star_type)"
   ]
  },
  {
   "cell_type": "markdown",
   "metadata": {},
   "source": [
    "### Insert data about star luminescence"
   ]
  },
  {
   "cell_type": "code",
   "execution_count": 5,
   "metadata": {
    "ExecuteTime": {
     "end_time": "2024-01-15T22:11:54.098276200Z",
     "start_time": "2024-01-15T22:05:54.102062900Z"
    }
   },
   "outputs": [
    {
     "name": "stderr",
     "output_type": "stream",
     "text": [
      "100%|██████████████████████████████████████████████████████████████████████████████████| 50/50 [00:04<00:00, 10.30it/s]\n"
     ]
    }
   ],
   "source": [
    "for star_tic in tqdm(star_tics):\n",
    "    if flux_exists(sector, star_tic):\n",
    "        continue\n",
    "\n",
    "    normalized_light_curve = create_normalized_light_curve_from_fits(sector, star_tic)\n",
    "    insert_flux(sector, star_tic, normalized_light_curve)"
   ]
  }
 ],
 "metadata": {
  "kernelspec": {
   "display_name": "Python 3 (ipykernel)",
   "language": "python",
   "name": "python3"
  },
  "language_info": {
   "codemirror_mode": {
    "name": "ipython",
    "version": 3
   },
   "file_extension": ".py",
   "mimetype": "text/x-python",
   "name": "python",
   "nbconvert_exporter": "python",
   "pygments_lexer": "ipython3",
   "version": "3.10.9"
  }
 },
 "nbformat": 4,
 "nbformat_minor": 1
}
